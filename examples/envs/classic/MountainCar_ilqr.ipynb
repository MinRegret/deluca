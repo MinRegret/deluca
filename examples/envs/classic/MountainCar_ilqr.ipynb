{
 "cells": [
  {
   "cell_type": "code",
   "execution_count": 55,
   "metadata": {},
   "outputs": [
    {
     "name": "stdout",
     "output_type": "stream",
     "text": [
      "The autoreload extension is already loaded. To reload it, use:\n",
      "  %reload_ext autoreload\n"
     ]
    }
   ],
   "source": [
    "%load_ext autoreload\n",
    "%autoreload 2"
   ]
  },
  {
   "cell_type": "code",
   "execution_count": 56,
   "metadata": {},
   "outputs": [],
   "source": [
    "import jax.numpy as jnp\n",
    "import numpy as np\n",
    "import matplotlib.pyplot as plt\n",
    "import jax\n",
    "from jax import lax\n",
    "from deluca.envs import MountainCar\n",
    "from deluca.agents import ILQR\n"
   ]
  },
  {
   "cell_type": "code",
   "execution_count": 57,
   "metadata": {},
   "outputs": [
    {
     "name": "stdout",
     "output_type": "stream",
     "text": [
      "c = 4.999999999999998\n",
      "cC = 0.05000000000000005\n",
      "iLQR : t = 2, c = 0.050000\n",
      "c = 0.05000000000000005\n",
      "cC = 0.002205000000000003\n",
      "iLQR : t = 3, c = 0.002205\n",
      "c = 0.002205000000000003\n",
      "cC = 0.00024158200499999486\n",
      "iLQR : t = 4, c = 0.000242\n",
      "c = 0.00024158200499999486\n",
      "cC = 5.203406057436436e-05\n",
      "iLQR : t = 5, c = 0.000052\n",
      "c = 5.203406057436436e-05\n",
      "cC = 1.9394263066271397e-05\n",
      "iLQR : t = 6, c = 0.000019\n",
      "c = 1.9394263066271397e-05\n",
      "cC = 1.1545528475155771e-05\n",
      "iLQR : t = 7, c = 0.000012\n",
      "c = 1.1545528475155771e-05\n",
      "cC = 1.039171610972019e-05\n",
      "iLQR : t = 8, c = 0.000010\n",
      "c = 1.039171610972019e-05\n",
      "cC = 1.3590238176791653e-05\n",
      "iLQR : t = 9, c = 0.000010\n",
      "c = 1.039171610972019e-05\n",
      "cC = 9.353210980111821e-06\n",
      "iLQR : t = 10, c = 0.000009\n",
      "c = 9.353210980111821e-06\n",
      "cC = 1.2232085980352084e-05\n",
      "iLQR : t = 11, c = 0.000009\n",
      "c = 9.353210980111821e-06\n",
      "cC = 8.418489758072591e-06\n",
      "iLQR : t = 12, c = 0.000008\n"
     ]
    }
   ],
   "source": [
    "agent = ILQR()\n",
    "agent.train(MountainCar(), 10)"
   ]
  },
  {
   "cell_type": "code",
   "execution_count": 64,
   "metadata": {
    "pycharm": {
     "name": "#%%\n"
    }
   },
   "outputs": [],
   "source": [
    "def loop(context, x):\n",
    "    env, agent = context\n",
    "    control = agent(env.state)\n",
    "    _, reward, _, _ = env.step(control)\n",
    "    return (env, agent), reward"
   ]
  },
  {
   "cell_type": "code",
   "execution_count": 71,
   "metadata": {},
   "outputs": [
    {
     "name": "stdout",
     "output_type": "stream",
     "text": [
      "[-0.4135497  0.       ]\n",
      "reward_forloop = 1.683697951614514e-05\n"
     ]
    }
   ],
   "source": [
    " # for loop version\n",
    "T = 100\n",
    "# env = MountainCar()\n",
    "print(env.reset())\n",
    "reward = 0\n",
    "for i in range(T):\n",
    "    (env, agent), r = loop((env, agent), 0)\n",
    "    reward += r\n",
    "reward_forloop = reward\n",
    "print('reward_forloop = ' + str(reward_forloop))"
   ]
  },
  {
   "cell_type": "code",
   "execution_count": 72,
   "metadata": {},
   "outputs": [
    {
     "name": "stdout",
     "output_type": "stream",
     "text": [
      "[-0.09652638  0.        ]\n",
      "reward_scan sum = 1.6836979516145185e-05\n"
     ]
    }
   ],
   "source": [
    "# scan version\n",
    "T = 100\n",
    "env = MountainCar()\n",
    "print(env.reset())\n",
    "plan = agent.U\n",
    "xs = jnp.array(jnp.arange(T))\n",
    "_,reward_scan = lax.scan(loop, (env, agent), xs)\n",
    "# correctness test\n",
    "print('reward_scan sum = ' + str(jnp.sum(reward_scan)))"
   ]
  }
 ],
 "metadata": {
  "kernelspec": {
   "display_name": "Python 3",
   "language": "python",
   "name": "python3"
  },
  "language_info": {
   "codemirror_mode": {
    "name": "ipython",
    "version": 3
   },
   "file_extension": ".py",
   "mimetype": "text/x-python",
   "name": "python",
   "nbconvert_exporter": "python",
   "pygments_lexer": "ipython3",
   "version": "3.7.5"
  }
 },
 "nbformat": 4,
 "nbformat_minor": 1
}
