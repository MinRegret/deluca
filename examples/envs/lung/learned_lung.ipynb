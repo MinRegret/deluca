{
 "cells": [
  {
   "cell_type": "code",
   "execution_count": 1,
   "metadata": {},
   "outputs": [],
   "source": [
    "%load_ext autoreload\n",
    "%autoreload 2"
   ]
  },
  {
   "cell_type": "code",
   "execution_count": null,
   "metadata": {},
   "outputs": [],
   "source": [
    "!pip install torch"
   ]
  },
  {
   "cell_type": "code",
   "execution_count": 134,
   "metadata": {},
   "outputs": [],
   "source": [
    "from deluca.envs import LearnedLung\n",
    "import pickle"
   ]
  },
  {
   "cell_type": "code",
   "execution_count": 164,
   "metadata": {},
   "outputs": [],
   "source": [
    "sim = LearnedLung.from_torch(\"learned_lung_C20_R20_PEEP10.pkl\")\n",
    "u_ins, u_outs = pickle.load(open(\"learned_lung_rand_inputs.pkl\", \"rb\"))"
   ]
  },
  {
   "cell_type": "code",
   "execution_count": 165,
   "metadata": {},
   "outputs": [
    {
     "data": {
      "text/plain": [
       "(5103.262111186127, 66.0, 7.034494411753087, 14.871706521816739)"
      ]
     },
     "execution_count": 165,
     "metadata": {},
     "output_type": "execute_result"
    }
   ],
   "source": [
    "sum(u_ins), sum(u_outs), sim.pressure_std, sim.pressure_mean"
   ]
  },
  {
   "cell_type": "code",
   "execution_count": 166,
   "metadata": {},
   "outputs": [
    {
     "name": "stdout",
     "output_type": "stream",
     "text": [
      "(100, 15) -18.700344\n",
      "(100,) -7.700759\n",
      "(20, 100) -16.416033\n",
      "(20,) 1.8714204\n",
      "(1, 20) -0.31508398\n",
      "(1,) 1.0946176\n"
     ]
    }
   ],
   "source": [
    "for weight in sim.weights:\n",
    "    print(weight.shape, weight.sum())"
   ]
  },
  {
   "cell_type": "code",
   "execution_count": 167,
   "metadata": {},
   "outputs": [
    {
     "name": "stdout",
     "output_type": "stream",
     "text": [
      "-0.5618838\n"
     ]
    },
    {
     "data": {
      "text/plain": [
       "({'measured': DeviceArray(10.919138, dtype=float32),\n",
       "  'target': DeviceArray(35., dtype=float32),\n",
       "  'dt': 0.03,\n",
       "  'phase': DeviceArray(2, dtype=int32)},\n",
       " DeviceArray(-5.919138, dtype=float32),\n",
       " False,\n",
       " {})"
      ]
     },
     "execution_count": 167,
     "metadata": {},
     "output_type": "execute_result"
    }
   ],
   "source": [
    "sim.step((0., 1.))"
   ]
  },
  {
   "cell_type": "code",
   "execution_count": 168,
   "metadata": {},
   "outputs": [
    {
     "name": "stdout",
     "output_type": "stream",
     "text": [
      "0.16378361\n",
      "0.48683125\n",
      "0.023323417\n",
      "0.0804013\n",
      "0.028549433\n",
      "-0.5121131\n",
      "-0.43682456\n",
      "-1.1164658\n",
      "-0.5168388\n",
      "-0.2630806\n",
      "-0.44908905\n",
      "-0.469831\n",
      "-0.5319487\n",
      "-0.5152528\n",
      "-0.5139495\n",
      "-0.5147848\n",
      "-0.5222256\n",
      "-0.5233686\n",
      "-0.515409\n",
      "-0.5572493\n",
      "-0.84329104\n",
      "-0.52807844\n",
      "-0.51606154\n",
      "-0.5081805\n",
      "-0.5138372\n",
      "-0.52069163\n",
      "-0.8880192\n",
      "-0.58981407\n",
      "-0.47337556\n",
      "-0.25040412\n",
      "-0.24771988\n",
      "-0.5146756\n",
      "-0.43523335\n",
      "-0.5151559\n",
      "-0.5069418\n",
      "-0.5144466\n",
      "-0.51416373\n",
      "-0.23728561\n",
      "-0.51361716\n",
      "-0.36320877\n",
      "-0.5149616\n",
      "-0.5151392\n",
      "-0.1980797\n",
      "-0.10978246\n",
      "0.28616256\n",
      "-0.3834598\n",
      "-0.5091249\n",
      "-0.5175067\n",
      "-0.51483715\n",
      "-0.5141314\n",
      "-1.0884154\n",
      "-0.5106875\n",
      "-0.712191\n",
      "-0.5168402\n",
      "-0.5151626\n",
      "-0.5155482\n",
      "-0.5156518\n",
      "-0.515972\n",
      "-0.06479752\n",
      "-0.19426286\n",
      "0.21577078\n",
      "0.095571935\n",
      "0.4071194\n",
      "0.9948371\n",
      "0.47964156\n",
      "0.12956268\n",
      "-0.4870367\n",
      "-0.5288615\n",
      "1.1854879\n",
      "-0.109377146\n",
      "-0.54993236\n",
      "-0.21893346\n",
      "0.17286122\n",
      "0.75319487\n",
      "-0.51006925\n",
      "-1.176013\n",
      "-0.8032155\n",
      "-0.5283747\n",
      "0.43550253\n",
      "0.22320127\n",
      "-0.5038812\n",
      "-0.36116385\n",
      "-0.5159644\n",
      "-0.98157763\n",
      "-0.55459106\n",
      "-1.202796\n",
      "-0.57225454\n",
      "-0.6490344\n",
      "-0.5837666\n",
      "-0.7067559\n",
      "-0.4979185\n",
      "-0.39263272\n",
      "-0.5148021\n",
      "-0.23351514\n",
      "-0.114733815\n",
      "0.3185317\n",
      "-0.17456639\n",
      "-0.56512\n",
      "-0.64799917\n",
      "-0.15089202\n"
     ]
    }
   ],
   "source": [
    "for u_in, u_out in zip(u_ins, u_outs):\n",
    "    sim.step((u_in, u_out))"
   ]
  },
  {
   "cell_type": "code",
   "execution_count": 99,
   "metadata": {},
   "outputs": [],
   "source": [
    "a = jnp.array([ 0.8986, -0.7279,  1.1745,  0.2611])"
   ]
  },
  {
   "cell_type": "code",
   "execution_count": 100,
   "metadata": {},
   "outputs": [
    {
     "data": {
      "text/plain": [
       "DeviceArray([ 0.7156155, -0.6217789,  0.8257094,  0.2553241], dtype=float32)"
      ]
     },
     "execution_count": 100,
     "metadata": {},
     "output_type": "execute_result"
    }
   ],
   "source": [
    "jnp.tanh(a)"
   ]
  },
  {
   "cell_type": "code",
   "execution_count": null,
   "metadata": {},
   "outputs": [],
   "source": []
  }
 ],
 "metadata": {
  "kernelspec": {
   "display_name": "Python 3",
   "language": "python",
   "name": "python3"
  },
  "language_info": {
   "codemirror_mode": {
    "name": "ipython",
    "version": 3
   },
   "file_extension": ".py",
   "mimetype": "text/x-python",
   "name": "python",
   "nbconvert_exporter": "python",
   "pygments_lexer": "ipython3",
   "version": "3.8.0"
  }
 },
 "nbformat": 4,
 "nbformat_minor": 4
}
