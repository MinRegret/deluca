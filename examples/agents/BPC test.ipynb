{
 "cells": [
  {
   "cell_type": "code",
   "execution_count": 279,
   "metadata": {},
   "outputs": [
    {
     "name": "stdout",
     "output_type": "stream",
     "text": [
      "The autoreload extension is already loaded. To reload it, use:\n",
      "  %reload_ext autoreload\n"
     ]
    }
   ],
   "source": [
    "%load_ext autoreload\n",
    "%autoreload 2"
   ]
  },
  {
   "cell_type": "code",
   "execution_count": 280,
   "metadata": {},
   "outputs": [],
   "source": [
    "from deluca.agents import BPC, LQR\n",
    "from deluca.envs import LDS\n",
    "import jax.numpy as jnp"
   ]
  },
  {
   "cell_type": "code",
   "execution_count": 281,
   "metadata": {},
   "outputs": [],
   "source": [
    "A,B = jnp.array([[.8,.5], [0,.8]]), jnp.array([[0],[0.8]])\n",
    "lds = LDS(state_size= B.shape[0], action_size=B.shape[1], A=A, B=B)"
   ]
  },
  {
   "cell_type": "code",
   "execution_count": 282,
   "metadata": {},
   "outputs": [],
   "source": [
    "bpc = BPC(lds.A, lds.B, lr_scale=1e-3, delta=0.01)\n",
    "lqr = LQR(A, B)"
   ]
  },
  {
   "cell_type": "code",
   "execution_count": 283,
   "metadata": {},
   "outputs": [],
   "source": [
    "def get_err(T, lds, controller):\n",
    "    lds.reset()\n",
    "    avg_err = 0\n",
    "    err = 0\n",
    "    for i in range(T):\n",
    "        try:\n",
    "            action = controller(lds.state, err)\n",
    "        except:\n",
    "            action = controller(lds.state)\n",
    "        lds.step(action)\n",
    "        lds.state += 0.03 * jnp.sin(i) # add sine noise\n",
    "        err = jnp.linalg.norm(lds.state)+jnp.linalg.norm(action)\n",
    "        avg_err += err/T\n",
    "    return avg_err"
   ]
  },
  {
   "cell_type": "code",
   "execution_count": 284,
   "metadata": {},
   "outputs": [],
   "source": [
    "T = 100"
   ]
  },
  {
   "cell_type": "code",
   "execution_count": 285,
   "metadata": {},
   "outputs": [
    {
     "name": "stdout",
     "output_type": "stream",
     "text": [
      "BPC incurs  0.07014202  loss\n",
      "LQR incurs  0.10718855  loss\n"
     ]
    }
   ],
   "source": [
    "print(\"BPC incurs \", get_err(T, lds, bpc), \" loss\")\n",
    "print(\"LQR incurs \", get_err(T, lds, lqr), \" loss\")"
   ]
  }
 ],
 "metadata": {
  "kernelspec": {
   "display_name": "Python 3",
   "language": "python",
   "name": "python3"
  },
  "language_info": {
   "codemirror_mode": {
    "name": "ipython",
    "version": 3
   },
   "file_extension": ".py",
   "mimetype": "text/x-python",
   "name": "python",
   "nbconvert_exporter": "python",
   "pygments_lexer": "ipython3",
   "version": "3.8.3"
  }
 },
 "nbformat": 4,
 "nbformat_minor": 4
}
