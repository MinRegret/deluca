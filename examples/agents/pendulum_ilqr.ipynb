{
 "cells": [
  {
   "cell_type": "code",
   "execution_count": 1,
   "metadata": {},
   "outputs": [],
   "source": [
    "%load_ext autoreload\n",
    "%autoreload 2"
   ]
  },
  {
   "cell_type": "code",
   "execution_count": 6,
   "metadata": {},
   "outputs": [],
   "source": [
    "import jax.numpy as jnp\n",
    "import matplotlib.pyplot as plt\n",
    "import jax\n",
    "from jax import lax\n",
    "from deluca.envs import Pendulum\n",
    "from deluca.agents import ILQR"
   ]
  },
  {
   "cell_type": "code",
   "execution_count": 25,
   "metadata": {
    "pycharm": {
     "name": "#%%\n"
    }
   },
   "outputs": [],
   "source": [
    "def loop(context, x):\n",
    "    env, agent = context\n",
    "    control = agent(env.state)\n",
    "    _, reward, _, _ = env.step(control)\n",
    "    return (env, agent), reward"
   ]
  },
  {
   "cell_type": "code",
   "execution_count": 15,
   "metadata": {
    "scrolled": true
   },
   "outputs": [
    {
     "name": "stdout",
     "output_type": "stream",
     "text": [
      "c = 295.0449860651728\n",
      "cC = 978.5209882079583\n",
      "iLQR : t = 2, c = 295.044986\n",
      "c = 295.0449860651728\n",
      "cC = 714.5016285382359\n",
      "iLQR : t = 3, c = 295.044986\n",
      "c = 295.0449860651728\n",
      "cC = 239.00068021498976\n",
      "iLQR : t = 4, c = 239.000680\n",
      "c = 239.00068021498976\n",
      "cC = 11335.202131224112\n",
      "iLQR : t = 5, c = 239.000680\n",
      "c = 239.00068021498976\n",
      "cC = 12296.469585865907\n",
      "iLQR : t = 6, c = 239.000680\n",
      "c = 239.00068021498976\n",
      "cC = 13091.173558323639\n",
      "iLQR : t = 7, c = 239.000680\n",
      "c = 239.00068021498976\n",
      "cC = 8871.055505373439\n",
      "iLQR : t = 8, c = 239.000680\n",
      "c = 239.00068021498976\n",
      "cC = 276.98914242937303\n",
      "iLQR : t = 9, c = 239.000680\n",
      "c = 239.00068021498976\n",
      "cC = 730.4357945433397\n",
      "iLQR : t = 10, c = 239.000680\n",
      "c = 239.00068021498976\n",
      "cC = 551.2662075848118\n",
      "iLQR : t = 11, c = 239.000680\n",
      "c = 239.00068021498976\n",
      "cC = 9065.853102622661\n",
      "iLQR : t = 12, c = 239.000680\n",
      "c = 239.00068021498976\n",
      "cC = 8506.02872895304\n",
      "iLQR : t = 13, c = 239.000680\n",
      "c = 239.00068021498976\n",
      "cC = 242.57885556183552\n",
      "iLQR : t = 14, c = 239.000680\n",
      "c = 239.00068021498976\n",
      "cC = 777.5106035278195\n",
      "iLQR : t = 15, c = 239.000680\n",
      "c = 239.00068021498976\n",
      "cC = 8779.046505473909\n",
      "iLQR : t = 16, c = 239.000680\n",
      "c = 239.00068021498976\n",
      "cC = 139.88910196676107\n",
      "iLQR : t = 17, c = 139.889102\n",
      "c = 139.88910196676107\n",
      "cC = 1595.2217737168642\n",
      "iLQR : t = 18, c = 139.889102\n",
      "c = 139.88910196676107\n",
      "cC = 519.5886283277006\n",
      "iLQR : t = 19, c = 139.889102\n",
      "c = 139.88910196676107\n",
      "cC = 468.7725327504056\n",
      "iLQR : t = 20, c = 139.889102\n"
     ]
    }
   ],
   "source": [
    "# ILQR\n",
    "agent = ILQR()\n",
    "agent.train(Pendulum(), 20)"
   ]
  },
  {
   "cell_type": "code",
   "execution_count": 28,
   "metadata": {},
   "outputs": [
    {
     "name": "stdout",
     "output_type": "stream",
     "text": [
      "[-1.97009089  0.77338597]\n",
      "reward_forloop = 295.0449860651728\n"
     ]
    }
   ],
   "source": [
    " # for loop version\n",
    "T = 50\n",
    "env = Pendulum()\n",
    "print(env.reset())\n",
    "reward = 0\n",
    "for i in range(T):\n",
    "    (env, agent), r = loop((env, agent), 0)\n",
    "    reward += r\n",
    "reward_forloop = reward\n",
    "print('reward_forloop = ' + str(reward_forloop))"
   ]
  },
  {
   "cell_type": "code",
   "execution_count": 29,
   "metadata": {},
   "outputs": [
    {
     "name": "stdout",
     "output_type": "stream",
     "text": [
      "[-1.97009089  0.77338597]\n",
      "reward_scan sum = 295.0449860651726\n"
     ]
    }
   ],
   "source": [
    "# scan version\n",
    "env = Pendulum()\n",
    "print(env.reset())\n",
    "xs = jnp.array(jnp.arange(T))\n",
    "_,reward_scan = lax.scan(loop, (env, agent), xs)\n",
    "# correctness test\n",
    "print('reward_scan sum = ' + str(jnp.sum(reward_scan)))"
   ]
  }
 ],
 "metadata": {
  "kernelspec": {
   "display_name": "Python 3",
   "language": "python",
   "name": "python3"
  },
  "language_info": {
   "codemirror_mode": {
    "name": "ipython",
    "version": 3
   },
   "file_extension": ".py",
   "mimetype": "text/x-python",
   "name": "python",
   "nbconvert_exporter": "python",
   "pygments_lexer": "ipython3",
   "version": "3.7.5"
  }
 },
 "nbformat": 4,
 "nbformat_minor": 1
}
