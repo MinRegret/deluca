{
 "cells": [
  {
   "cell_type": "code",
   "execution_count": 265,
   "metadata": {},
   "outputs": [
    {
     "name": "stdout",
     "output_type": "stream",
     "text": [
      "The autoreload extension is already loaded. To reload it, use:\n",
      "  %reload_ext autoreload\n"
     ]
    }
   ],
   "source": [
    "%load_ext autoreload\n",
    "%autoreload 2"
   ]
  },
  {
   "cell_type": "code",
   "execution_count": 275,
   "metadata": {},
   "outputs": [],
   "source": [
    "from deluca.agents import GPC, Adaptive\n",
    "from deluca.envs import LDS\n",
    "import jax.numpy as jnp\n",
    "import numpy as np\n",
    "from tqdm import tqdm\n",
    "import matplotlib.pyplot as plt"
   ]
  },
  {
   "cell_type": "code",
   "execution_count": 280,
   "metadata": {},
   "outputs": [],
   "source": [
    "cummean = lambda x: np.cumsum(x)/(np.ones(T) + np.arange(T))"
   ]
  },
  {
   "cell_type": "code",
   "execution_count": 267,
   "metadata": {},
   "outputs": [],
   "source": [
    "n, m = 2, 1"
   ]
  },
  {
   "cell_type": "code",
   "execution_count": 304,
   "metadata": {},
   "outputs": [],
   "source": [
    "def get_errs(T, controller, A, B, noise):\n",
    "    state = jnp.zeros((n, 1))\n",
    "    errs = [0.]\n",
    "    \n",
    "    for i in tqdm(range(1, T)):\n",
    "        \n",
    "        try:\n",
    "            action = controller(state, A, B)\n",
    "        except:\n",
    "            action = controller(state)\n",
    "            \n",
    "        if(noise==\"normal\"):\n",
    "            state = A @ state + B @ action + np.random.normal(0, 0.2, size=(n,1)) # gaussian noise\n",
    "        else:\n",
    "            state = A @ state + B @ action + np.random.normal(0, 0.2, size=(n,1)) *(i%300 < 150) + 0.4 * jnp.sin(i) *(i%300>= 150) # add sine noise every 150 steps\n",
    "        \n",
    "        if(i % T//2 == 0): # switch system\n",
    "            A,B = jnp.array([[1.,1.5], [0,1.]]), jnp.array([[0],[0.9]])\n",
    "        \n",
    "        errs.append(jnp.linalg.norm(state)+jnp.linalg.norm(action))\n",
    "    \n",
    "    return errs"
   ]
  },
  {
   "cell_type": "code",
   "execution_count": 289,
   "metadata": {},
   "outputs": [],
   "source": [
    "T = 600"
   ]
  },
  {
   "cell_type": "code",
   "execution_count": 290,
   "metadata": {},
   "outputs": [],
   "source": [
    "ada = Adaptive(T, base_controller=GPC, A=A, B=B)\n",
    "gpc = GPC(A, B)"
   ]
  },
  {
   "cell_type": "code",
   "execution_count": 293,
   "metadata": {},
   "outputs": [
    {
     "name": "stderr",
     "output_type": "stream",
     "text": [
      "100%|██████████| 599/599 [00:02<00:00, 225.29it/s]\n",
      "  0%|          | 0/599 [00:00<?, ?it/s]"
     ]
    },
    {
     "name": "stdout",
     "output_type": "stream",
     "text": [
      "GPC incurs  0.9258076644067963  loss under gaussian iid noise\n"
     ]
    },
    {
     "name": "stderr",
     "output_type": "stream",
     "text": [
      "100%|██████████| 599/599 [01:47<00:00,  5.57it/s]"
     ]
    },
    {
     "name": "stdout",
     "output_type": "stream",
     "text": [
      "AdaGPC incurs  0.7698232416187724  loss under gaussian iid noise\n"
     ]
    },
    {
     "name": "stderr",
     "output_type": "stream",
     "text": [
      "\n"
     ]
    },
    {
     "data": {
      "image/png": "[encoded data removed]",
      "text/plain": [
       "<Figure size 432x288 with 1 Axes>"
      ]
     },
     "metadata": {
      "needs_background": "light"
     },
     "output_type": "display_data"
    }
   ],
   "source": [
    "A,B = jnp.array([[1.,.5], [0,1.]]), jnp.array([[0],[1.2]])\n",
    "\n",
    "ada = Adaptive(T, base_controller=GPC, A=A, B=B)\n",
    "gpc = GPC(A, B)\n",
    "\n",
    "gpc_errs = get_errs(T, gpc, A, B, \"normal\")\n",
    "print(\"GPC incurs \", np.mean(gpc_errs), \" loss under gaussian iid noise\")\n",
    "\n",
    "ada_errs = get_errs(T, ada, A, B, \"normal\")\n",
    "print(\"AdaGPC incurs \", np.mean(ada_errs), \" loss under gaussian iid noise\")\n",
    "\n",
    "plt.title(\"Instantenous losses under gaussian iid noise\")\n",
    "plt.plot(cummean(gpc_errs), \"green\", label = \"GPC\")\n",
    "plt.plot(cummean(ada_errs), \"blue\", label = \"AdaGPC\")\n",
    "plt.legend();"
   ]
  },
  {
   "cell_type": "code",
   "execution_count": 305,
   "metadata": {},
   "outputs": [
    {
     "name": "stderr",
     "output_type": "stream",
     "text": [
      "100%|██████████| 599/599 [00:03<00:00, 189.99it/s]\n",
      "  0%|          | 0/599 [00:00<?, ?it/s]"
     ]
    },
    {
     "name": "stdout",
     "output_type": "stream",
     "text": [
      "GPC incurs  1.6867011664062739  loss under intermittent sine noise\n"
     ]
    },
    {
     "name": "stderr",
     "output_type": "stream",
     "text": [
      "100%|██████████| 599/599 [01:54<00:00,  5.25it/s]"
     ]
    },
    {
     "name": "stdout",
     "output_type": "stream",
     "text": [
      "AdaGPC incurs  1.158390645502756  loss under intermittent sine noise\n"
     ]
    },
    {
     "name": "stderr",
     "output_type": "stream",
     "text": [
      "\n"
     ]
    },
    {
     "data": {
      "image/png": "[encoded data removed]",
      "text/plain": [
       "<Figure size 432x288 with 1 Axes>"
      ]
     },
     "metadata": {
      "needs_background": "light"
     },
     "output_type": "display_data"
    }
   ],
   "source": [
    "A,B = jnp.array([[1.,.5], [0,1.]]), jnp.array([[0],[1.2]])\n",
    "\n",
    "ada = Adaptive(T, base_controller=GPC, A=A, B=B)\n",
    "gpc = GPC(A, B)\n",
    "\n",
    "gpc_errs = get_errs(T, gpc, A, B, \"sine\")\n",
    "print(\"GPC incurs \", np.mean(gpc_errs), \" loss under intermittent sine noise\")\n",
    "\n",
    "ada_errs = get_errs(T, ada, A, B, \"sine\")\n",
    "print(\"AdaGPC incurs \", np.mean(ada_errs), \" loss under intermittent sine noise\")\n",
    "\n",
    "plt.title(\"Instantenous losses under intermittent sine noise\")\n",
    "plt.plot(cummean(gpc_errs), \"green\", label = \"GPC\")\n",
    "plt.plot(cummean(ada_errs), \"blue\", label = \"AdaGPC\")\n",
    "plt.legend();"
   ]
  }
 ],
 "metadata": {
  "kernelspec": {
   "display_name": "Python 3",
   "language": "python",
   "name": "python3"
  },
  "language_info": {
   "codemirror_mode": {
    "name": "ipython",
    "version": 3
   },
   "file_extension": ".py",
   "mimetype": "text/x-python",
   "name": "python",
   "nbconvert_exporter": "python",
   "pygments_lexer": "ipython3",
   "version": "3.8.3"
  }
 },
 "nbformat": 4,
 "nbformat_minor": 4
}
