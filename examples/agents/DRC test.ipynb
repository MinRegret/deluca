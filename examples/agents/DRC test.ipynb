{
 "cells": [
  {
   "cell_type": "code",
   "execution_count": 716,
   "metadata": {},
   "outputs": [
    {
     "name": "stdout",
     "output_type": "stream",
     "text": [
      "The autoreload extension is already loaded. To reload it, use:\n",
      "  %reload_ext autoreload\n"
     ]
    }
   ],
   "source": [
    "%load_ext autoreload\n",
    "%autoreload 2"
   ]
  },
  {
   "cell_type": "code",
   "execution_count": null,
   "metadata": {},
   "outputs": [],
   "source": [
    "from deluca.envs import CartPole\n",
    "env = CartPole()\n",
    "env.reset()\n",
    "for _ in range(1000):\n",
    "    env.render()\n",
    "    env.step(action)"
   ]
  },
  {
   "cell_type": "code",
   "execution_count": null,
   "metadata": {},
   "outputs": [],
   "source": [
    "import gym\n",
    "env = gym.make(\"CartPole-v0\")\n",
    "env.reset()\n",
    "for _ in range(1000):\n",
    "    env.render()\n",
    "    env.step(action)"
   ]
  },
  {
   "cell_type": "code",
   "execution_count": 717,
   "metadata": {},
   "outputs": [],
   "source": [
    "from deluca.agents import DRC, LQR\n",
    "from deluca.envs import LDS\n",
    "import jax.numpy as jnp"
   ]
  },
  {
   "cell_type": "code",
   "execution_count": 718,
   "metadata": {},
   "outputs": [],
   "source": [
    "A,B = jnp.array([[.8,.5], [0,.8]]), jnp.array([[0],[0.8]])\n",
    "lds = LDS(state_size= B.shape[0], action_size=B.shape[1], A=A, B=B)"
   ]
  },
  {
   "cell_type": "code",
   "execution_count": 719,
   "metadata": {},
   "outputs": [],
   "source": [
    "drc = DRC(lds.A, lds.B)\n",
    "drc_lqr = DRC(lds.A, lds.B, K= LQR(A, B).K)\n",
    "lqr = LQR(A, B)"
   ]
  },
  {
   "cell_type": "code",
   "execution_count": 720,
   "metadata": {},
   "outputs": [],
   "source": [
    "def get_err(T, lds, controller):\n",
    "    lds.reset()\n",
    "    avg_err = 0\n",
    "    for i in range(T):\n",
    "        action = controller(lds.state)\n",
    "        lds.step(action)\n",
    "        lds.state += 0.5 * jnp.sin(i) # add sine noise\n",
    "        avg_err += (jnp.linalg.norm(lds.state)+jnp.linalg.norm(action))/T\n",
    "    return avg_err"
   ]
  },
  {
   "cell_type": "code",
   "execution_count": 721,
   "metadata": {},
   "outputs": [],
   "source": [
    "T = 100"
   ]
  },
  {
   "cell_type": "code",
   "execution_count": 722,
   "metadata": {},
   "outputs": [
    {
     "name": "stdout",
     "output_type": "stream",
     "text": [
      "Pure DRC incurs  0.558123  loss\n",
      "DRC initialized with LQR incurs  0.8183247  loss\n",
      "LQR incurs  1.2538122  loss\n"
     ]
    }
   ],
   "source": [
    "print(\"Pure DRC incurs \", get_err(T, lds, drc), \" loss\")\n",
    "print(\"DRC initialized with LQR incurs \", get_err(T, lds, drc_lqr), \" loss\")\n",
    "print(\"LQR incurs \", get_err(T, lds, lqr), \" loss\")"
   ]
  }
 ],
 "metadata": {
  "kernelspec": {
   "display_name": "Python 3",
   "language": "python",
   "name": "python3"
  },
  "language_info": {
   "codemirror_mode": {
    "name": "ipython",
    "version": 3
   },
   "file_extension": ".py",
   "mimetype": "text/x-python",
   "name": "python",
   "nbconvert_exporter": "python",
   "pygments_lexer": "ipython3",
   "version": "3.8.3"
  }
 },
 "nbformat": 4,
 "nbformat_minor": 4
}
